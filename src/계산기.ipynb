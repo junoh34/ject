{
 "cells": [
  {
   "cell_type": "code",
   "execution_count": null,
   "id": "a172fdb6",
   "metadata": {},
   "outputs": [],
   "source": [
    "# 계산기\n",
    "# 편집됨\n",
    "\n",
    "x,y=input(\"두 게의 숫자를 입력하시오\")\n",
    "\n",
    "z=input(\"+=0,-=1,*=2,/=3,%=4,//=5\")\n",
    "\n",
    "if z == 0:\n",
    "    print(\"x + y = {}\".format(x+y))\n",
    "elif z == 1:\n",
    "    print(\"x - y = {}\".format(x-y))\n",
    "elif z == 2:\n",
    "    print(\"x * y = {}\".format(x*y))\n",
    "elif z == 3:\n",
    "    print(\"x / y = {}\".format(x/y))\n",
    "elif z == 4:\n",
    "    print(\"x % y = {}\".format(x%y))\n",
    "elif z == 5:\n",
    "    print(\"x // y = {}\".format(x//y))"
   ]
  }
 ],
 "metadata": {
  "kernelspec": {
   "display_name": "Python 3 (ipykernel)",
   "language": "python",
   "name": "python3"
  },
  "language_info": {
   "codemirror_mode": {
    "name": "ipython",
    "version": 3
   },
   "file_extension": ".py",
   "mimetype": "text/x-python",
   "name": "python",
   "nbconvert_exporter": "python",
   "pygments_lexer": "ipython3",
   "version": "3.9.12"
  }
 },
 "nbformat": 4,
 "nbformat_minor": 5
}
